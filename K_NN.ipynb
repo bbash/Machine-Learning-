{
  "nbformat": 4,
  "nbformat_minor": 0,
  "metadata": {
    "colab": {
      "provenance": [],
      "authorship_tag": "ABX9TyMAZTrbAdLuuhYO7sU4hD8v",
      "include_colab_link": true
    },
    "kernelspec": {
      "name": "python3",
      "display_name": "Python 3"
    },
    "language_info": {
      "name": "python"
    }
  },
  "cells": [
    {
      "cell_type": "markdown",
      "metadata": {
        "id": "view-in-github",
        "colab_type": "text"
      },
      "source": [
        "<a href=\"https://colab.research.google.com/github/bbash/Machine-Learning-/blob/main/K_NN.ipynb\" target=\"_parent\"><img src=\"https://colab.research.google.com/assets/colab-badge.svg\" alt=\"Open In Colab\"/></a>"
      ]
    },
    {
      "cell_type": "markdown",
      "source": [
        "# Implmentation of K-NN  \n",
        "## Data source : https://archive.ics.uci.edu/ml/datasets/magic+gamma+telescope\n"
      ],
      "metadata": {
        "id": "UuayWUyxgAFP"
      }
    },
    {
      "cell_type": "code",
      "source": [],
      "metadata": {
        "id": "1T7MdE9QhSBb"
      },
      "execution_count": null,
      "outputs": []
    }
  ]
}